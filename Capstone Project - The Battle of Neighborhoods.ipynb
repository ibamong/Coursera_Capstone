{
    "nbformat_minor": 1, 
    "cells": [
        {
            "source": "# Capstone Project - The Battle of Neighborhoods", 
            "cell_type": "markdown", 
            "metadata": {
                "collapsed": true
            }
        }, 
        {
            "source": "### Introduction/Business Problem", 
            "cell_type": "markdown", 
            "metadata": {}
        }, 
        {
            "source": "Bangkok is a big city and there are a lot of business area around the city. \nOne business which always in trend is coffee shop. But they are already all around and lot os competitor.\nBut if you got a good location and good taste , you still have a chance to grow.\nSo, in this project someone want to open brand new coffee shop in Bangkok ,before they gonna invest some money. We will try to explore Bangkok and see where is the best location and why.", 
            "cell_type": "markdown", 
            "metadata": {}
        }, 
        {
            "source": "### Data", 
            "cell_type": "markdown", 
            "metadata": {}
        }, 
        {
            "source": "We will get information for each area around Bangkok from Foursquare. As you know , we can see all the business in the area we chose.Afterthat we will analyze the data. for example , see the density of coffee shop or the area with \u0e22\u0e19\u0e30\u0e33\u0e37\u0e30\u0e23\u0e1f\u0e2a ", 
            "cell_type": "markdown", 
            "metadata": {}
        }
    ], 
    "metadata": {
        "kernelspec": {
            "display_name": "Python 3.5", 
            "name": "python3", 
            "language": "python"
        }, 
        "language_info": {
            "mimetype": "text/x-python", 
            "nbconvert_exporter": "python", 
            "version": "3.5.5", 
            "name": "python", 
            "file_extension": ".py", 
            "pygments_lexer": "ipython3", 
            "codemirror_mode": {
                "version": 3, 
                "name": "ipython"
            }
        }
    }, 
    "nbformat": 4
}