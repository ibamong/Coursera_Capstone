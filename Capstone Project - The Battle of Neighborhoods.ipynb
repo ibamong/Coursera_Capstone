{
    "nbformat_minor": 1, 
    "cells": [
        {
            "source": "# Capstone Project - The Battle of Neighborhoods", 
            "cell_type": "markdown", 
            "metadata": {
                "collapsed": true
            }
        }, 
        {
            "source": "### Introduction/Business Problem", 
            "cell_type": "markdown", 
            "metadata": {}
        }, 
        {
            "source": "New York is a big city and there are a lot of business area around the city. \nOne business which always in trend is coffee shop. But they are already all around and lot of competitor.\nBut if you got a good location and good taste , you still have a chance to grow.\nSo, in this project someone want to open brand new coffee shop in New York ,before they gonna invest some money. We will try to explore New York and see where is the best location and why.", 
            "cell_type": "markdown", 
            "metadata": {}
        }, 
        {
            "source": "### Data", 
            "cell_type": "markdown", 
            "metadata": {}
        }, 
        {
            "source": "First, We will get location for all neighborhood in New York. Luckily, this dataset exists for free on the web.Here is the link to the dataset: https://geo.nyu.edu/catalog/nyu_2451_34572 \n\nAfter that we will find out how many coffee shop or relate business already be in each neighborhood. To get this infomation, we gonna use API from Foursquare. As you know , we can see all the business in the area we choose and see how much people like it. \n\nFor example this link : https://foursquare.com/explore?mode=url&near=New%20York%2C%20NY%2C%20United%20States&nearGeoId=72057594043056517&q=coffee%20shop\nYou will see a suggestions for coffee shop in New York city . So, roughly we can see where are the famus coffee shop and the rating. Then we can analyze where is the best place to open our brand new coffee shop :D \n\n", 
            "cell_type": "markdown", 
            "metadata": {}
        }, 
        {
            "execution_count": null, 
            "cell_type": "code", 
            "metadata": {}, 
            "outputs": [], 
            "source": ""
        }
    ], 
    "metadata": {
        "kernelspec": {
            "display_name": "Python 3.5", 
            "name": "python3", 
            "language": "python"
        }, 
        "language_info": {
            "mimetype": "text/x-python", 
            "nbconvert_exporter": "python", 
            "version": "3.5.5", 
            "name": "python", 
            "file_extension": ".py", 
            "pygments_lexer": "ipython3", 
            "codemirror_mode": {
                "version": 3, 
                "name": "ipython"
            }
        }
    }, 
    "nbformat": 4
}